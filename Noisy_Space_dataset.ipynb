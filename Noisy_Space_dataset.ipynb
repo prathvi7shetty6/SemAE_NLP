{
  "nbformat": 4,
  "nbformat_minor": 0,
  "metadata": {
    "colab": {
      "provenance": []
    },
    "kernelspec": {
      "name": "python3",
      "display_name": "Python 3"
    },
    "language_info": {
      "name": "python"
    }
  },
  "cells": [
    {
      "cell_type": "code",
      "execution_count": 1,
      "metadata": {
        "colab": {
          "base_uri": "https://localhost:8080/"
        },
        "id": "fWwFy8lzJN92",
        "outputId": "88ba3d8f-cf71-412b-f26c-48408cb55826"
      },
      "outputs": [
        {
          "output_type": "stream",
          "name": "stdout",
          "text": [
            "Mounted at /content/drive\n"
          ]
        }
      ],
      "source": [
        "import os\n",
        "from google.colab import drive\n",
        "drive.mount('/content/drive')\n",
        "import json\n",
        "import sys\n",
        "import numpy as np"
      ]
    },
    {
      "cell_type": "code",
      "source": [
        "os.chdir('/content/drive/MyDrive/SemAE_NLP/data/space/json/')"
      ],
      "metadata": {
        "id": "c2nf92bCJZTy"
      },
      "execution_count": 2,
      "outputs": []
    },
    {
      "cell_type": "code",
      "source": [
        "data = json.load(open('space_train.json'))"
      ],
      "metadata": {
        "id": "kYomorwfJkYc"
      },
      "execution_count": 3,
      "outputs": []
    },
    {
      "cell_type": "code",
      "source": [
        "sys.getsizeof(data)"
      ],
      "metadata": {
        "colab": {
          "base_uri": "https://localhost:8080/"
        },
        "id": "l1eRAE2xhrql",
        "outputId": "b29989a8-de66-4cf5-c9ba-f8a3ca0fb2db"
      },
      "execution_count": 4,
      "outputs": [
        {
          "output_type": "execute_result",
          "data": {
            "text/plain": [
              "95864"
            ]
          },
          "metadata": {},
          "execution_count": 4
        }
      ]
    },
    {
      "cell_type": "code",
      "source": [
        "s = set()\n",
        "k = set()\n",
        "p = set()\n",
        "for i in range(len(data)):\n",
        "  for j in range(len(data[i]['reviews'])):\n",
        "      s.add(len(data[i]['reviews'][j]['sentences']))\n",
        "      index = (min(10,len(data[i]['reviews'][j]['sentences'])))\n",
        "      data[i]['reviews'][j]['sentences'] = data[i]['reviews'][j]['sentences'][:index]\n",
        "      np.random.shuffle(data[i]['reviews'][j]['sentences'])\n",
        "      k.add(index)\n",
        "      p.add(len(data[i]['reviews'][j]['sentences']))\n",
        "print(data[0]['reviews'][0].keys())\n",
        "print(data[0].keys())\n"
      ],
      "metadata": {
        "colab": {
          "base_uri": "https://localhost:8080/"
        },
        "id": "WvW5l5R5J_FJ",
        "outputId": "41c2e0ab-078d-4de7-dad4-12ff5a6a1fec"
      },
      "execution_count": 5,
      "outputs": [
        {
          "output_type": "stream",
          "name": "stdout",
          "text": [
            "dict_keys(['review_id', 'rating', 'sentences'])\n",
            "dict_keys(['entity_id', 'reviews'])\n"
          ]
        }
      ]
    },
    {
      "cell_type": "code",
      "source": [
        "print(len(data))"
      ],
      "metadata": {
        "colab": {
          "base_uri": "https://localhost:8080/"
        },
        "id": "-Oahw72PeXMS",
        "outputId": "8515d65b-230f-4cbe-dc57-3d5662f1efeb"
      },
      "execution_count": 6,
      "outputs": [
        {
          "output_type": "stream",
          "name": "stdout",
          "text": [
            "11402\n"
          ]
        }
      ]
    },
    {
      "cell_type": "code",
      "source": [
        "print(max(list(s)),min(list(s)))\n",
        "print(max(list(k)),min(list(k)))\n",
        "print(max(list(p)),min(list(p)))\n"
      ],
      "metadata": {
        "colab": {
          "base_uri": "https://localhost:8080/"
        },
        "id": "RojsvyK8fvua",
        "outputId": "ea0dc479-7255-45ef-f415-936ce486b957"
      },
      "execution_count": 7,
      "outputs": [
        {
          "output_type": "stream",
          "name": "stdout",
          "text": [
            "659 1\n",
            "10 1\n",
            "10 1\n"
          ]
        }
      ]
    },
    {
      "cell_type": "code",
      "source": [
        "sys.getsizeof(data)"
      ],
      "metadata": {
        "colab": {
          "base_uri": "https://localhost:8080/"
        },
        "id": "5eiaQmt_hWsp",
        "outputId": "384258d2-0a2b-49f6-cc2b-4acc45bb3c7e"
      },
      "execution_count": 8,
      "outputs": [
        {
          "output_type": "execute_result",
          "data": {
            "text/plain": [
              "95864"
            ]
          },
          "metadata": {},
          "execution_count": 8
        }
      ]
    },
    {
      "cell_type": "code",
      "source": [
        "json_object = json.dumps(data, indent=4)\n",
        "with open(\"trunc_sample.json\", \"w\") as outfile:\n",
        "    outfile.write(json_object)"
      ],
      "metadata": {
        "id": "AZd23hIWi6di"
      },
      "execution_count": 9,
      "outputs": []
    },
    {
      "cell_type": "code",
      "source": [
        "truc_data = json.load(open('trunc_sample.json'))"
      ],
      "metadata": {
        "id": "gr3ZjJkHjbKC"
      },
      "execution_count": 10,
      "outputs": []
    },
    {
      "cell_type": "code",
      "source": [
        "sys.getsizeof(truc_data)"
      ],
      "metadata": {
        "colab": {
          "base_uri": "https://localhost:8080/"
        },
        "id": "FxiP7v-Zje69",
        "outputId": "b090746b-647d-4313-b707-1ff8ed95ad98"
      },
      "execution_count": 11,
      "outputs": [
        {
          "output_type": "execute_result",
          "data": {
            "text/plain": [
              "95864"
            ]
          },
          "metadata": {},
          "execution_count": 11
        }
      ]
    },
    {
      "cell_type": "code",
      "source": [
        "s = set()\n",
        "k = set()\n",
        "p = set()\n",
        "for i in range(len(truc_data)):\n",
        "  for j in range(len(truc_data[i]['reviews'])):\n",
        "      s.add(len(truc_data[i]['reviews'][j]['sentences']))\n",
        "      index = (min(10,len(truc_data[i]['reviews'][j]['sentences'])))\n",
        "      #data[i]['reviews'][j]['sentences'] = data[i]['reviews'][j]['sentences'][:index]\n",
        "      k.add(index)\n",
        "      p.add(len(truc_data[i]['reviews'][j]['sentences']))\n",
        "print(truc_data[0]['reviews'][0].keys())\n",
        "print(truc_data[0].keys())\n",
        "print(max(list(s)),min(list(s)))\n",
        "print(max(list(k)),min(list(k)))\n",
        "print(max(list(p)),min(list(p)))"
      ],
      "metadata": {
        "colab": {
          "base_uri": "https://localhost:8080/"
        },
        "id": "husMeRpXjm5V",
        "outputId": "9e210e78-e412-4b74-ad8c-e4f42a1d0f74"
      },
      "execution_count": 12,
      "outputs": [
        {
          "output_type": "stream",
          "name": "stdout",
          "text": [
            "dict_keys(['review_id', 'rating', 'sentences'])\n",
            "dict_keys(['entity_id', 'reviews'])\n",
            "10 1\n",
            "10 1\n",
            "10 1\n"
          ]
        }
      ]
    }
  ]
}